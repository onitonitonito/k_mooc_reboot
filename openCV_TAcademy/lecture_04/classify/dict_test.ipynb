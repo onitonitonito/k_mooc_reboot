{
 "cells": [
  {
   "cell_type": "code",
   "execution_count": 18,
   "metadata": {},
   "outputs": [],
   "source": [
    "import os\n",
    "from _path import get_cut_dir "
   ]
  },
  {
   "cell_type": "code",
   "execution_count": 19,
   "metadata": {},
   "outputs": [],
   "source": [
    "dir_home = get_cut_dir('classify')\n",
    "dir_img = dir_home + 'src_img\\\\'"
   ]
  },
  {
   "cell_type": "code",
   "execution_count": 20,
   "metadata": {},
   "outputs": [
    {
     "data": {
      "text/plain": [
       "['cup.jpg',\n",
       " 'dog_beagle.jpg',\n",
       " 'dog_retreiver.jpg',\n",
       " 'mochila.jpg',\n",
       " 'pineapple.jpg',\n",
       " 'scooter.jpg',\n",
       " 'space_shuttle.jpg',\n",
       " 'tennis1.jpg',\n",
       " 'tennis2.jpg',\n",
       " 'tennis3.jpg',\n",
       " 'tennis4.jpg']"
      ]
     },
     "execution_count": 20,
     "metadata": {},
     "output_type": "execute_result"
    }
   ],
   "source": [
    "names = [filename \n",
    "                for filename in os.listdir(dir_img) \n",
    "                if filename.split('.')[-1] == 'jpg']\n",
    "names"
   ]
  },
  {
   "cell_type": "code",
   "execution_count": 23,
   "metadata": {},
   "outputs": [
    {
     "data": {
      "text/plain": [
       "{'0': ['id', 0, 'cup.jpg'],\n",
       " '1': ['id', 0, 'dog_beagle.jpg'],\n",
       " '2': ['id', 0, 'dog_retreiver.jpg'],\n",
       " '3': ['id', 0, 'mochila.jpg'],\n",
       " '4': ['id', 0, 'pineapple.jpg'],\n",
       " '5': ['id', 0, 'scooter.jpg'],\n",
       " '6': ['id', 0, 'space_shuttle.jpg'],\n",
       " '7': ['id', 0, 'tennis1.jpg'],\n",
       " '8': ['id', 0, 'tennis2.jpg'],\n",
       " '9': ['id', 0, 'tennis3.jpg'],\n",
       " '10': ['id', 0, 'tennis4.jpg']}"
      ]
     },
     "execution_count": 23,
     "metadata": {},
     "output_type": "execute_result"
    }
   ],
   "source": [
    "asks = {}\n",
    "\n",
    "for i, name in enumerate(names):\n",
    "    asks[str(i)] = ['id', 0, name]\n",
    "\n",
    "asks"
   ]
  },
  {
   "cell_type": "code",
   "execution_count": null,
   "metadata": {},
   "outputs": [],
   "source": []
  },
  {
   "cell_type": "code",
   "execution_count": null,
   "metadata": {},
   "outputs": [],
   "source": []
  }
 ],
 "metadata": {
  "kernelspec": {
   "display_name": "Python 3",
   "language": "python",
   "name": "python3"
  },
  "language_info": {
   "codemirror_mode": {
    "name": "ipython",
    "version": 3
   },
   "file_extension": ".py",
   "mimetype": "text/x-python",
   "name": "python",
   "nbconvert_exporter": "python",
   "pygments_lexer": "ipython3",
   "version": "3.7.1"
  }
 },
 "nbformat": 4,
 "nbformat_minor": 4
}
